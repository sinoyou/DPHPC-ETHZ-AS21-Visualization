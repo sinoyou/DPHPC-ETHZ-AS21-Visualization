{
 "cells": [
  {
   "cell_type": "code",
   "execution_count": 1,
   "metadata": {
    "id": "4h_pJaBjFwgd"
   },
   "outputs": [],
   "source": [
    "import matplotlib.pyplot as plt\n",
    "import seaborn as sns \n",
    "import pandas as pd\n",
    "import numpy as np"
   ]
  },
  {
   "cell_type": "code",
   "execution_count": 2,
   "metadata": {
    "id": "Cga5BbYMF6Kc"
   },
   "outputs": [],
   "source": [
    "# ax = sns.boxplot(x=\"day\", y=\"total_bill\", data=tips, palette=\"Set2\")\n",
    "# ax.set_title('test, test, test')"
   ]
  },
  {
   "cell_type": "code",
   "execution_count": 3,
   "metadata": {
    "id": "2qno2ciEGbT4"
   },
   "outputs": [],
   "source": [
    "def raw_data_to_dataframe(gpu_data_path, cpu_data_path):\n",
    "    \"\"\"\n",
    "    transfer raw data from test to pandas dataframe \n",
    "    example data frame: \n",
    "    [put_time]  [sender_num]  [platform]\n",
    "    0.001           10            GPU-MPI\n",
    "    0.0001          10            OPEN-MPI \n",
    "    ...  \n",
    "    \"\"\"\n",
    "    pd_data = pd.DataFrame(columns = ['put_time', 'sender_num', 'platform'])\n",
    "    # demo \n",
    "    # pd_data = pd_data.append({'sending_time': 0.001, 'thread_num': 10, 'platform': 'GPU-MPI'}, ignore_index=True)\n",
    "    # pd_data = pd_data.append({'sending_time': 0.0001, 'thread_num': 10, 'platform': 'OPEN-MPI'}, ignore_index=True)\n",
    "\n",
    "    # read gpu test file\n",
    "    file = open(gpu_data_path, 'r')\n",
    "    for line in file.readlines():\n",
    "        elements = line.strip().split()\n",
    "        # if the line not starts with '#', then ignored\n",
    "        if len(elements) == 0 or not elements[0] == '#':\n",
    "            continue\n",
    "\n",
    "        row = {\n",
    "            'put_time': float(elements[4]), \n",
    "            'total_time': float(elements[5]), \n",
    "            'sender_num': int(elements[1]), \n",
    "            'platform': 'GPU-MPI'\n",
    "        }\n",
    "        pd_data = pd_data.append(row, ignore_index=True)\n",
    "    file.close()\n",
    "\n",
    "    # read cpu test file \n",
    "    file = open(cpu_data_path, 'r')\n",
    "    for line in file.readlines():\n",
    "        elements = line.strip().split()\n",
    "        # if the line not starts with '#', then ignored\n",
    "        if len(elements) == 0 or not elements[0] == '#':\n",
    "            continue\n",
    "\n",
    "        row = {\n",
    "            'put_time': float(elements[4]), \n",
    "            'total_time': float(elements[5]), \n",
    "            'sender_num': int(elements[1]), \n",
    "            'platform': 'OPEN-MPI'\n",
    "        }\n",
    "        pd_data = pd_data.append(row, ignore_index=True)\n",
    "    file.close()\n",
    "\n",
    "    return pd_data"
   ]
  },
  {
   "cell_type": "code",
   "execution_count": 4,
   "metadata": {
    "id": "yKaxdjxzJY-h"
   },
   "outputs": [],
   "source": [
    "# read data \n",
    "data_path_gpu = 'benchmark_a21_put_passive_cuda_640_100_600.txt'\n",
    "data_path_cpu = 'benchmark_a21_put_passive_cpu_640_100_600.txt'\n",
    "thread_time_data = raw_data_to_dataframe(data_path_gpu, data_path_cpu)"
   ]
  },
  {
   "cell_type": "code",
   "execution_count": 5,
   "metadata": {},
   "outputs": [
    {
     "data": {
      "text/plain": [
       "'benchmark-a21-put-passive-cuda-640'"
      ]
     },
     "execution_count": 5,
     "metadata": {},
     "output_type": "execute_result"
    }
   ],
   "source": [
    "# generate title for plot \n",
    "plot_prefix = data_path_gpu.strip().split('_')[0:-2]\n",
    "plot_prefix = '-'.join(plot_prefix)\n",
    "plot_prefix"
   ]
  },
  {
   "cell_type": "code",
   "execution_count": 6,
   "metadata": {},
   "outputs": [],
   "source": [
    "def data_validity_check(data):\n",
    "    \"\"\"\n",
    "    check data validity from the log. \n",
    "    e.g. data point number.\n",
    "    \"\"\"\n",
    "    # filter out platform data \n",
    "    cuda_mpi_data = data[data['platform'] == 'GPU-MPI']\n",
    "    cpu_mpi_data = data[data['platform'] == 'OPEN-MPI']\n",
    "    \n",
    "    # create empty container\n",
    "    result = data.drop(index=range(0, len(data)))\n",
    "    \n",
    "    # rule 1: data point number for each thread_num should be the same. \n",
    "    thread_num = data['sender_num'].unique()\n",
    "    print('rule 1 check, sender_num = {}'.format(thread_num))\n",
    "    expected = len(cuda_mpi_data[cuda_mpi_data['sender_num'] == thread_num[0]])  # init with fisrt #(first cuda data point)\n",
    "    for n in thread_num:\n",
    "        _cpu = cpu_mpi_data[cpu_mpi_data['sender_num'] == n]\n",
    "        _cuda = cuda_mpi_data[cuda_mpi_data['sender_num'] == n]\n",
    "        len_cpu = len(cpu_mpi_data[cpu_mpi_data['sender_num'] == n])\n",
    "        len_cuda = len(cuda_mpi_data[cuda_mpi_data['sender_num'] == n])\n",
    "        if len_cpu > expected:\n",
    "            print('[warning] [cpu] sender_num = {}, sample {} out of {}'.format(n, expected, len_cpu))\n",
    "            _cpu = _cpu.sample(n=expected)\n",
    "        if len_cuda > expected:\n",
    "            print('[warning] [cuda] sender_num = {}, sample {} out of {}'.format(n, expected, len_cuda))\n",
    "            _cuda = _cuda.sample(n=expected)\n",
    "        if len_cpu < expected:\n",
    "            raise Exception('not enough data for [cpu] sender_num = {}, expect {} but get {}'.format(n, expected, len_cpu))\n",
    "        if len_cuda < expected:\n",
    "            raise Exception('not enough data for [cuda] sender_num = {}, expect {} but get {}'.format(n, expected, len_cuda))\n",
    "        \n",
    "        result = pd.concat([result, _cpu, _cuda])\n",
    "    \n",
    "    return result"
   ]
  },
  {
   "cell_type": "code",
   "execution_count": 7,
   "metadata": {
    "colab": {
     "base_uri": "https://localhost:8080/",
     "height": 424
    },
    "id": "rbrXJpI9Su_n",
    "outputId": "e6ed7f4f-46dd-4fb9-a807-aef771006b2b"
   },
   "outputs": [
    {
     "data": {
      "text/html": [
       "<div>\n",
       "<style scoped>\n",
       "    .dataframe tbody tr th:only-of-type {\n",
       "        vertical-align: middle;\n",
       "    }\n",
       "\n",
       "    .dataframe tbody tr th {\n",
       "        vertical-align: top;\n",
       "    }\n",
       "\n",
       "    .dataframe thead th {\n",
       "        text-align: right;\n",
       "    }\n",
       "</style>\n",
       "<table border=\"1\" class=\"dataframe\">\n",
       "  <thead>\n",
       "    <tr style=\"text-align: right;\">\n",
       "      <th></th>\n",
       "      <th>put_time</th>\n",
       "      <th>sender_num</th>\n",
       "      <th>platform</th>\n",
       "      <th>total_time</th>\n",
       "    </tr>\n",
       "  </thead>\n",
       "  <tbody>\n",
       "    <tr>\n",
       "      <th>0</th>\n",
       "      <td>0.000932</td>\n",
       "      <td>1</td>\n",
       "      <td>GPU-MPI</td>\n",
       "      <td>0.093206</td>\n",
       "    </tr>\n",
       "    <tr>\n",
       "      <th>1</th>\n",
       "      <td>0.000932</td>\n",
       "      <td>1</td>\n",
       "      <td>GPU-MPI</td>\n",
       "      <td>0.093295</td>\n",
       "    </tr>\n",
       "    <tr>\n",
       "      <th>2</th>\n",
       "      <td>0.000932</td>\n",
       "      <td>1</td>\n",
       "      <td>GPU-MPI</td>\n",
       "      <td>0.093286</td>\n",
       "    </tr>\n",
       "    <tr>\n",
       "      <th>3</th>\n",
       "      <td>0.000932</td>\n",
       "      <td>1</td>\n",
       "      <td>GPU-MPI</td>\n",
       "      <td>0.093234</td>\n",
       "    </tr>\n",
       "    <tr>\n",
       "      <th>4</th>\n",
       "      <td>0.000931</td>\n",
       "      <td>1</td>\n",
       "      <td>GPU-MPI</td>\n",
       "      <td>0.093209</td>\n",
       "    </tr>\n",
       "    <tr>\n",
       "      <th>...</th>\n",
       "      <td>...</td>\n",
       "      <td>...</td>\n",
       "      <td>...</td>\n",
       "      <td>...</td>\n",
       "    </tr>\n",
       "    <tr>\n",
       "      <th>19385</th>\n",
       "      <td>0.000761</td>\n",
       "      <td>50</td>\n",
       "      <td>OPEN-MPI</td>\n",
       "      <td>0.260000</td>\n",
       "    </tr>\n",
       "    <tr>\n",
       "      <th>19386</th>\n",
       "      <td>0.000761</td>\n",
       "      <td>50</td>\n",
       "      <td>OPEN-MPI</td>\n",
       "      <td>0.203992</td>\n",
       "    </tr>\n",
       "    <tr>\n",
       "      <th>19387</th>\n",
       "      <td>0.000160</td>\n",
       "      <td>50</td>\n",
       "      <td>OPEN-MPI</td>\n",
       "      <td>0.243998</td>\n",
       "    </tr>\n",
       "    <tr>\n",
       "      <th>19388</th>\n",
       "      <td>0.000012</td>\n",
       "      <td>50</td>\n",
       "      <td>OPEN-MPI</td>\n",
       "      <td>0.271995</td>\n",
       "    </tr>\n",
       "    <tr>\n",
       "      <th>19389</th>\n",
       "      <td>0.000801</td>\n",
       "      <td>50</td>\n",
       "      <td>OPEN-MPI</td>\n",
       "      <td>0.263997</td>\n",
       "    </tr>\n",
       "  </tbody>\n",
       "</table>\n",
       "<p>19390 rows × 4 columns</p>\n",
       "</div>"
      ],
      "text/plain": [
       "       put_time sender_num  platform  total_time\n",
       "0      0.000932          1   GPU-MPI    0.093206\n",
       "1      0.000932          1   GPU-MPI    0.093295\n",
       "2      0.000932          1   GPU-MPI    0.093286\n",
       "3      0.000932          1   GPU-MPI    0.093234\n",
       "4      0.000931          1   GPU-MPI    0.093209\n",
       "...         ...        ...       ...         ...\n",
       "19385  0.000761         50  OPEN-MPI    0.260000\n",
       "19386  0.000761         50  OPEN-MPI    0.203992\n",
       "19387  0.000160         50  OPEN-MPI    0.243998\n",
       "19388  0.000012         50  OPEN-MPI    0.271995\n",
       "19389  0.000801         50  OPEN-MPI    0.263997\n",
       "\n",
       "[19390 rows x 4 columns]"
      ]
     },
     "execution_count": 7,
     "metadata": {},
     "output_type": "execute_result"
    }
   ],
   "source": [
    "thread_time_data"
   ]
  },
  {
   "cell_type": "code",
   "execution_count": 8,
   "metadata": {},
   "outputs": [
    {
     "data": {
      "text/html": [
       "<div>\n",
       "<style scoped>\n",
       "    .dataframe tbody tr th:only-of-type {\n",
       "        vertical-align: middle;\n",
       "    }\n",
       "\n",
       "    .dataframe tbody tr th {\n",
       "        vertical-align: top;\n",
       "    }\n",
       "\n",
       "    .dataframe thead th {\n",
       "        text-align: right;\n",
       "    }\n",
       "</style>\n",
       "<table border=\"1\" class=\"dataframe\">\n",
       "  <thead>\n",
       "    <tr style=\"text-align: right;\">\n",
       "      <th></th>\n",
       "      <th>put_time</th>\n",
       "      <th>sender_num</th>\n",
       "      <th>platform</th>\n",
       "      <th>total_time</th>\n",
       "    </tr>\n",
       "  </thead>\n",
       "  <tbody>\n",
       "    <tr>\n",
       "      <th>0</th>\n",
       "      <td>0.000932</td>\n",
       "      <td>1</td>\n",
       "      <td>GPU-MPI</td>\n",
       "      <td>0.093206</td>\n",
       "    </tr>\n",
       "    <tr>\n",
       "      <th>1</th>\n",
       "      <td>0.000932</td>\n",
       "      <td>1</td>\n",
       "      <td>GPU-MPI</td>\n",
       "      <td>0.093295</td>\n",
       "    </tr>\n",
       "    <tr>\n",
       "      <th>2</th>\n",
       "      <td>0.000932</td>\n",
       "      <td>1</td>\n",
       "      <td>GPU-MPI</td>\n",
       "      <td>0.093286</td>\n",
       "    </tr>\n",
       "    <tr>\n",
       "      <th>3</th>\n",
       "      <td>0.000932</td>\n",
       "      <td>1</td>\n",
       "      <td>GPU-MPI</td>\n",
       "      <td>0.093234</td>\n",
       "    </tr>\n",
       "    <tr>\n",
       "      <th>4</th>\n",
       "      <td>0.000931</td>\n",
       "      <td>1</td>\n",
       "      <td>GPU-MPI</td>\n",
       "      <td>0.093209</td>\n",
       "    </tr>\n",
       "    <tr>\n",
       "      <th>...</th>\n",
       "      <td>...</td>\n",
       "      <td>...</td>\n",
       "      <td>...</td>\n",
       "      <td>...</td>\n",
       "    </tr>\n",
       "    <tr>\n",
       "      <th>19385</th>\n",
       "      <td>0.000761</td>\n",
       "      <td>50</td>\n",
       "      <td>OPEN-MPI</td>\n",
       "      <td>0.260000</td>\n",
       "    </tr>\n",
       "    <tr>\n",
       "      <th>19386</th>\n",
       "      <td>0.000761</td>\n",
       "      <td>50</td>\n",
       "      <td>OPEN-MPI</td>\n",
       "      <td>0.203992</td>\n",
       "    </tr>\n",
       "    <tr>\n",
       "      <th>19387</th>\n",
       "      <td>0.000160</td>\n",
       "      <td>50</td>\n",
       "      <td>OPEN-MPI</td>\n",
       "      <td>0.243998</td>\n",
       "    </tr>\n",
       "    <tr>\n",
       "      <th>19388</th>\n",
       "      <td>0.000012</td>\n",
       "      <td>50</td>\n",
       "      <td>OPEN-MPI</td>\n",
       "      <td>0.271995</td>\n",
       "    </tr>\n",
       "    <tr>\n",
       "      <th>19389</th>\n",
       "      <td>0.000801</td>\n",
       "      <td>50</td>\n",
       "      <td>OPEN-MPI</td>\n",
       "      <td>0.263997</td>\n",
       "    </tr>\n",
       "  </tbody>\n",
       "</table>\n",
       "<p>19390 rows × 4 columns</p>\n",
       "</div>"
      ],
      "text/plain": [
       "       put_time sender_num  platform  total_time\n",
       "0      0.000932          1   GPU-MPI    0.093206\n",
       "1      0.000932          1   GPU-MPI    0.093295\n",
       "2      0.000932          1   GPU-MPI    0.093286\n",
       "3      0.000932          1   GPU-MPI    0.093234\n",
       "4      0.000931          1   GPU-MPI    0.093209\n",
       "...         ...        ...       ...         ...\n",
       "19385  0.000761         50  OPEN-MPI    0.260000\n",
       "19386  0.000761         50  OPEN-MPI    0.203992\n",
       "19387  0.000160         50  OPEN-MPI    0.243998\n",
       "19388  0.000012         50  OPEN-MPI    0.271995\n",
       "19389  0.000801         50  OPEN-MPI    0.263997\n",
       "\n",
       "[19390 rows x 4 columns]"
      ]
     },
     "execution_count": 8,
     "metadata": {},
     "output_type": "execute_result"
    }
   ],
   "source": [
    "# x = data_validity_check(thread_time_data)\n",
    "back_up = thread_time_data.copy()  # leave a backup \n",
    "# thread_time_data = x\n",
    "back_up"
   ]
  },
  {
   "cell_type": "code",
   "execution_count": 9,
   "metadata": {},
   "outputs": [
    {
     "data": {
      "text/plain": [
       "Text(0.5, 1.0, 'benchmark-a21-put-passive-cuda-640-put_time')"
      ]
     },
     "execution_count": 9,
     "metadata": {},
     "output_type": "execute_result"
    },
    {
     "data": {
      "image/png": "[encoded data removed]",
      "text/plain": [
       "<Figure size 432x288 with 1 Axes>"
      ]
     },
     "metadata": {
      "needs_background": "light"
     },
     "output_type": "display_data"
    }
   ],
   "source": [
    "# general box plot\n",
    "ax = sns.boxplot(x=\"sender_num\", y=\"put_time\", hue='platform', data=thread_time_data, palette=\"Set3\", showfliers=False, whis=1.5)\n",
    "ax.set_title(f'{plot_prefix}-put_time')"
   ]
  },
  {
   "cell_type": "code",
   "execution_count": 10,
   "metadata": {},
   "outputs": [
    {
     "data": {
      "text/plain": [
       "Text(0.5, 1.0, 'benchmark-a21-put-passive-cuda-640-total_time')"
      ]
     },
     "execution_count": 10,
     "metadata": {},
     "output_type": "execute_result"
    },
    {
     "data": {
      "image/png": "[encoded data removed]",
      "text/plain": [
       "<Figure size 432x288 with 1 Axes>"
      ]
     },
     "metadata": {
      "needs_background": "light"
     },
     "output_type": "display_data"
    }
   ],
   "source": [
    "# general box plot for total time\n",
    "ax = sns.boxplot(x=\"sender_num\", y=\"total_time\", hue='platform', data=thread_time_data, palette=\"Set3\", showfliers=False, whis=1.5)\n",
    "ax.set_title(f'{plot_prefix}-total_time')"
   ]
  },
  {
   "cell_type": "code",
   "execution_count": 11,
   "metadata": {},
   "outputs": [],
   "source": [
    "# line plot for put time\n",
    "def line_plot_median_quartile(time_key):\n",
    "    ax = sns.lineplot(x=\"sender_num\", y=time_key, hue='platform', data=thread_time_data, palette=\"Set2\", estimator=np.median, ci=None)\n",
    "    # generate quatile bound manually\n",
    "    for p in thread_time_data['platform'].unique():\n",
    "        data = thread_time_data[thread_time_data['platform'] == p]\n",
    "        bounds = data.groupby('sender_num')[time_key].quantile((0.25,0.75)).unstack()\n",
    "        ax.fill_between(x=bounds.index,y1=bounds.iloc[:,0],y2=bounds.iloc[:,1],alpha=0.1)\n",
    "    return ax"
   ]
  },
  {
   "cell_type": "code",
   "execution_count": 12,
   "metadata": {},
   "outputs": [
    {
     "data": {
      "text/plain": [
       "Text(0.5, 1, 'benchmark-a21-put-passive-cuda-640-put_time')"
      ]
     },
     "execution_count": 12,
     "metadata": {},
     "output_type": "execute_result"
    },
    {
     "data": {
      "image/png": "[encoded data removed]",
      "text/plain": [
       "<Figure size 432x288 with 1 Axes>"
      ]
     },
     "metadata": {
      "needs_background": "light"
     },
     "output_type": "display_data"
    }
   ],
   "source": [
    "# line plot: put time, median-quartile\n",
    "ax = line_plot_median_quartile(time_key='put_time')\n",
    "ax.set_title(f'{plot_prefix}-put_time')"
   ]
  },
  {
   "cell_type": "code",
   "execution_count": 13,
   "metadata": {},
   "outputs": [
    {
     "data": {
      "text/plain": [
       "Text(0.5, 1, 'benchmark-a21-put-passive-cuda-640-total_time')"
      ]
     },
     "execution_count": 13,
     "metadata": {},
     "output_type": "execute_result"
    },
    {
     "data": {
      "image/png": "[encoded data removed]",
      "text/plain": [
       "<Figure size 432x288 with 1 Axes>"
      ]
     },
     "metadata": {
      "needs_background": "light"
     },
     "output_type": "display_data"
    }
   ],
   "source": [
    "# line plot: total time, median-quartile\n",
    "ax = line_plot_median_quartile(time_key='total_time')\n",
    "ax.set_title(f'{plot_prefix}-total_time')"
   ]
  },
  {
   "cell_type": "code",
   "execution_count": 14,
   "metadata": {
    "colab": {
     "base_uri": "https://localhost:8080/",
     "height": 284
    },
    "id": "Gy2FrZLLSDjI",
    "outputId": "8d964735-bc99-4d27-8c4c-65ce24ab2e57"
   },
   "outputs": [
    {
     "data": {
      "text/plain": [
       "Text(0.5, 1.0, 'benchmark-a21-put-passive-cuda-640-cuda_mpi-put_time')"
      ]
     },
     "execution_count": 14,
     "metadata": {},
     "output_type": "execute_result"
    },
    {
     "data": {
      "image/png": "[encoded data removed]",
      "text/plain": [
       "<Figure size 432x288 with 1 Axes>"
      ]
     },
     "metadata": {
      "needs_background": "light"
     },
     "output_type": "display_data"
    }
   ],
   "source": [
    "# subplot for gpu put time only \n",
    "data_gpu = thread_time_data[thread_time_data['platform'] == 'GPU-MPI']\n",
    "ax = sns.boxplot(x=\"sender_num\", y=\"put_time\", data=data_gpu, palette=\"Set3\", showfliers=True) \n",
    "ax.set_title(f'{plot_prefix}-cuda_mpi-put_time')"
   ]
  },
  {
   "cell_type": "code",
   "execution_count": 15,
   "metadata": {},
   "outputs": [
    {
     "data": {
      "text/plain": [
       "Text(0.5, 1.0, 'benchmark-a21-put-passive-cuda-640-open_mpi-put_time')"
      ]
     },
     "execution_count": 15,
     "metadata": {},
     "output_type": "execute_result"
    },
    {
     "data": {
      "image/png": "[encoded data removed]",
      "text/plain": [
       "<Figure size 432x288 with 1 Axes>"
      ]
     },
     "metadata": {
      "needs_background": "light"
     },
     "output_type": "display_data"
    }
   ],
   "source": [
    "# subplot for cpu put time only \n",
    "data_cpu = thread_time_data[thread_time_data['platform'] == 'OPEN-MPI']\n",
    "ax = sns.boxplot(x=\"sender_num\", y=\"put_time\", data=data_cpu, palette=\"Set3\")\n",
    "ax.set_title(f'{plot_prefix}-open_mpi-put_time')"
   ]
  },
  {
   "cell_type": "code",
   "execution_count": null,
   "metadata": {},
   "outputs": [],
   "source": []
  }
 ],
 "metadata": {
  "colab": {
   "collapsed_sections": [],
   "name": "DPHPC ETHZ AS21 Data Visualization.ipynb",
   "provenance": []
  },
  "kernelspec": {
   "display_name": "Python [conda env:pytorch]",
   "language": "python",
   "name": "conda-env-pytorch-py"
  },
  "language_info": {
   "codemirror_mode": {
    "name": "ipython",
    "version": 3
   },
   "file_extension": ".py",
   "mimetype": "text/x-python",
   "name": "python",
   "nbconvert_exporter": "python",
   "pygments_lexer": "ipython3",
   "version": "3.7.4"
  }
 },
 "nbformat": 4,
 "nbformat_minor": 4
}
