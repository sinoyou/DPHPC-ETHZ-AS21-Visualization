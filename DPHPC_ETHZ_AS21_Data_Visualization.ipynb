{
 "cells": [
  {
   "cell_type": "code",
   "execution_count": 114,
   "metadata": {
    "id": "4h_pJaBjFwgd"
   },
   "outputs": [],
   "source": [
    "import matplotlib.pyplot as plt\n",
    "import seaborn as sns \n",
    "import pandas as pd\n",
    "import numpy as np"
   ]
  },
  {
   "cell_type": "code",
   "execution_count": 74,
   "metadata": {
    "id": "Cga5BbYMF6Kc"
   },
   "outputs": [],
   "source": [
    "# ax = sns.boxplot(x=\"day\", y=\"total_bill\", data=tips, palette=\"Set2\")\n",
    "# ax.set_title('test, test, test')"
   ]
  },
  {
   "cell_type": "code",
   "execution_count": 75,
   "metadata": {
    "id": "2qno2ciEGbT4"
   },
   "outputs": [],
   "source": [
    "def raw_data_to_dataframe(gpu_data_path, cpu_data_path):\n",
    "    \"\"\"\n",
    "    transfer raw data from test to pandas dataframe \n",
    "    example data frame: \n",
    "    [put_time]  [thread_num]  [platform]\n",
    "    0.001           10            GPU-MPI\n",
    "    0.0001          10            OPEN-MPI \n",
    "    ...  \n",
    "    \"\"\"\n",
    "    pd_data = pd.DataFrame(columns = ['put_time', 'thread_num', 'platform'])\n",
    "    # demo \n",
    "    # pd_data = pd_data.append({'sending_time': 0.001, 'thread_num': 10, 'platform': 'GPU-MPI'}, ignore_index=True)\n",
    "    # pd_data = pd_data.append({'sending_time': 0.0001, 'thread_num': 10, 'platform': 'OPEN-MPI'}, ignore_index=True)\n",
    "\n",
    "    # read gpu test file\n",
    "    file = open(gpu_data_path, 'r')\n",
    "    for line in file.readlines():\n",
    "        elements = line.strip().split()\n",
    "        # if the line not starts with '#', then ignored\n",
    "        if len(elements) == 0 or not elements[0] == '#':\n",
    "            continue\n",
    "\n",
    "        row = {\n",
    "            'put_time': float(elements[4]), \n",
    "            'thread_num': int(elements[1]) * 2, \n",
    "            'platform': 'GPU-MPI'\n",
    "        }\n",
    "        pd_data = pd_data.append(row, ignore_index=True)\n",
    "    file.close()\n",
    "\n",
    "    # read cpu test file \n",
    "    file = open(cpu_data_path, 'r')\n",
    "    for line in file.readlines():\n",
    "        elements = line.strip().split()\n",
    "        # if the line not starts with '#', then ignored\n",
    "        if len(elements) == 0 or not elements[0] == '#':\n",
    "            continue\n",
    "\n",
    "        row = {\n",
    "            'put_time': float(elements[4]), \n",
    "            'thread_num': int(elements[1]) * 2, \n",
    "            'platform': 'OPEN-MPI'\n",
    "        }\n",
    "        pd_data = pd_data.append(row, ignore_index=True)\n",
    "    file.close()\n",
    "\n",
    "    return pd_data"
   ]
  },
  {
   "cell_type": "code",
   "execution_count": 100,
   "metadata": {},
   "outputs": [],
   "source": [
    "def data_validity_check(data):\n",
    "    \"\"\"\n",
    "    check data validity from the log. \n",
    "    e.g. data point number.\n",
    "    \"\"\"\n",
    "    # filter out platform data \n",
    "    cuda_mpi_data = data[data['platform'] == 'GPU-MPI']\n",
    "    cpu_mpi_data = data[data['platform'] == 'CPU-MPI']\n",
    "    \n",
    "    # rule 1: data point number for each thread_num should be the same. \n",
    "    thread_num = data['thread_num'].unique()\n",
    "    print('rule 1 check, thread_num = {}'.format(thread_num))\n",
    "    expected = len(cuda_mpi_data[cuda_mpi_data['platform'] == thread_num[0]])  # init with fisrt #(first cuda data point)\n",
    "    for n in thread_num:\n",
    "        assert len(cuda_mpi_data[cuda_mpi_data['platform'] == n]) == len(cpu_mpi_data['platform'] == n) == expected\n",
    "    \n",
    "    \n",
    "    print('congratulations, no error is detected. ')"
   ]
  },
  {
   "cell_type": "code",
   "execution_count": 101,
   "metadata": {
    "id": "yKaxdjxzJY-h"
   },
   "outputs": [],
   "source": [
    "# read data \n",
    "data_path_gpu = 'benchmark_121_put_active_cuda_640_100_300.txt'\n",
    "data_path_cpu = 'benchmark_121_put_active_cpu_640_100_300.txt'\n",
    "thread_time_data = raw_data_to_dataframe(data_path_gpu, data_path_cpu)"
   ]
  },
  {
   "cell_type": "code",
   "execution_count": 102,
   "metadata": {
    "colab": {
     "base_uri": "https://localhost:8080/",
     "height": 424
    },
    "id": "rbrXJpI9Su_n",
    "outputId": "e6ed7f4f-46dd-4fb9-a807-aef771006b2b"
   },
   "outputs": [
    {
     "data": {
      "text/html": [
       "<div>\n",
       "<style scoped>\n",
       "    .dataframe tbody tr th:only-of-type {\n",
       "        vertical-align: middle;\n",
       "    }\n",
       "\n",
       "    .dataframe tbody tr th {\n",
       "        vertical-align: top;\n",
       "    }\n",
       "\n",
       "    .dataframe thead th {\n",
       "        text-align: right;\n",
       "    }\n",
       "</style>\n",
       "<table border=\"1\" class=\"dataframe\">\n",
       "  <thead>\n",
       "    <tr style=\"text-align: right;\">\n",
       "      <th></th>\n",
       "      <th>put_time</th>\n",
       "      <th>thread_num</th>\n",
       "      <th>platform</th>\n",
       "    </tr>\n",
       "  </thead>\n",
       "  <tbody>\n",
       "    <tr>\n",
       "      <th>0</th>\n",
       "      <td>0.000928</td>\n",
       "      <td>2</td>\n",
       "      <td>GPU-MPI</td>\n",
       "    </tr>\n",
       "    <tr>\n",
       "      <th>1</th>\n",
       "      <td>0.000928</td>\n",
       "      <td>2</td>\n",
       "      <td>GPU-MPI</td>\n",
       "    </tr>\n",
       "    <tr>\n",
       "      <th>2</th>\n",
       "      <td>0.000929</td>\n",
       "      <td>2</td>\n",
       "      <td>GPU-MPI</td>\n",
       "    </tr>\n",
       "    <tr>\n",
       "      <th>3</th>\n",
       "      <td>0.000929</td>\n",
       "      <td>2</td>\n",
       "      <td>GPU-MPI</td>\n",
       "    </tr>\n",
       "    <tr>\n",
       "      <th>4</th>\n",
       "      <td>0.000928</td>\n",
       "      <td>2</td>\n",
       "      <td>GPU-MPI</td>\n",
       "    </tr>\n",
       "    <tr>\n",
       "      <th>...</th>\n",
       "      <td>...</td>\n",
       "      <td>...</td>\n",
       "      <td>...</td>\n",
       "    </tr>\n",
       "    <tr>\n",
       "      <th>4195</th>\n",
       "      <td>0.000561</td>\n",
       "      <td>60</td>\n",
       "      <td>OPEN-MPI</td>\n",
       "    </tr>\n",
       "    <tr>\n",
       "      <th>4196</th>\n",
       "      <td>0.000280</td>\n",
       "      <td>60</td>\n",
       "      <td>OPEN-MPI</td>\n",
       "    </tr>\n",
       "    <tr>\n",
       "      <th>4197</th>\n",
       "      <td>0.000561</td>\n",
       "      <td>60</td>\n",
       "      <td>OPEN-MPI</td>\n",
       "    </tr>\n",
       "    <tr>\n",
       "      <th>4198</th>\n",
       "      <td>0.000280</td>\n",
       "      <td>60</td>\n",
       "      <td>OPEN-MPI</td>\n",
       "    </tr>\n",
       "    <tr>\n",
       "      <th>4199</th>\n",
       "      <td>0.000360</td>\n",
       "      <td>60</td>\n",
       "      <td>OPEN-MPI</td>\n",
       "    </tr>\n",
       "  </tbody>\n",
       "</table>\n",
       "<p>4200 rows × 3 columns</p>\n",
       "</div>"
      ],
      "text/plain": [
       "      put_time thread_num  platform\n",
       "0     0.000928          2   GPU-MPI\n",
       "1     0.000928          2   GPU-MPI\n",
       "2     0.000929          2   GPU-MPI\n",
       "3     0.000929          2   GPU-MPI\n",
       "4     0.000928          2   GPU-MPI\n",
       "...        ...        ...       ...\n",
       "4195  0.000561         60  OPEN-MPI\n",
       "4196  0.000280         60  OPEN-MPI\n",
       "4197  0.000561         60  OPEN-MPI\n",
       "4198  0.000280         60  OPEN-MPI\n",
       "4199  0.000360         60  OPEN-MPI\n",
       "\n",
       "[4200 rows x 3 columns]"
      ]
     },
     "execution_count": 102,
     "metadata": {},
     "output_type": "execute_result"
    }
   ],
   "source": [
    "thread_time_data"
   ]
  },
  {
   "cell_type": "code",
   "execution_count": 103,
   "metadata": {},
   "outputs": [
    {
     "name": "stdout",
     "output_type": "stream",
     "text": [
      "rule 1 check, thread_num = [2 10 20 30 50 40 60]\n",
      "congratulations, no error is detected. \n"
     ]
    }
   ],
   "source": [
    "data_validity_check(thread_time_data)"
   ]
  },
  {
   "cell_type": "code",
   "execution_count": 119,
   "metadata": {},
   "outputs": [
    {
     "data": {
      "image/png": "[encoded data removed]",
      "text/plain": [
       "<Figure size 432x288 with 1 Axes>"
      ]
     },
     "metadata": {
      "needs_background": "light"
     },
     "output_type": "display_data"
    }
   ],
   "source": [
    "# general box plot\n",
    "ax = sns.boxplot(x=\"thread_num\", y=\"put_time\", hue='platform', data=thread_time_data, palette=\"Set3\", showfliers=False, whis=1.5)"
   ]
  },
  {
   "cell_type": "code",
   "execution_count": 123,
   "metadata": {},
   "outputs": [
    {
     "data": {
      "image/png": "[encoded data removed]",
      "text/plain": [
       "<Figure size 432x288 with 1 Axes>"
      ]
     },
     "metadata": {
      "needs_background": "light"
     },
     "output_type": "display_data"
    }
   ],
   "source": [
    "# line plot \n",
    "ax = sns.lineplot(x=\"thread_num\", y=\"put_time\", hue='platform', data=thread_time_data, palette=\"Set2\", estimator=np.median, ci=None)\n",
    "# generate quatile bound manually\n",
    "for p in thread_time_data['platform'].unique():\n",
    "    data = thread_time_data[thread_time_data['platform'] == p]\n",
    "    bounds = data.groupby('thread_num')['put_time'].quantile((0.25,0.75)).unstack()\n",
    "    ax.fill_between(x=bounds.index,y1=bounds.iloc[:,0],y2=bounds.iloc[:,1],alpha=0.1)"
   ]
  },
  {
   "cell_type": "code",
   "execution_count": 85,
   "metadata": {
    "colab": {
     "base_uri": "https://localhost:8080/",
     "height": 284
    },
    "id": "Gy2FrZLLSDjI",
    "outputId": "8d964735-bc99-4d27-8c4c-65ce24ab2e57"
   },
   "outputs": [
    {
     "data": {
      "image/png": "[encoded data removed]",
      "text/plain": [
       "<Figure size 432x288 with 1 Axes>"
      ]
     },
     "metadata": {
      "needs_background": "light"
     },
     "output_type": "display_data"
    }
   ],
   "source": [
    "# subplot for gpu put time only \n",
    "data_gpu = thread_time_data[thread_time_data['platform'] == 'GPU-MPI']\n",
    "ax = sns.boxplot(x=\"thread_num\", y=\"put_time\", data=data_gpu, palette=\"Set3\", showfliers=True) "
   ]
  },
  {
   "cell_type": "code",
   "execution_count": 86,
   "metadata": {},
   "outputs": [
    {
     "data": {
      "image/png": "[encoded data removed]",
      "text/plain": [
       "<Figure size 432x288 with 1 Axes>"
      ]
     },
     "metadata": {
      "needs_background": "light"
     },
     "output_type": "display_data"
    }
   ],
   "source": [
    "# subplot for cpu put time only \n",
    "data_cpu = thread_time_data[thread_time_data['platform'] == 'OPEN-MPI']\n",
    "ax = sns.boxplot(x=\"thread_num\", y=\"put_time\", data=data_cpu, palette=\"Set3\")"
   ]
  },
  {
   "cell_type": "code",
   "execution_count": 108,
   "metadata": {},
   "outputs": [
    {
     "data": {
      "text/plain": [
       "(array([217.,  30.,  20.,   7.,   8.,  10.,   4.,   1.,   1.,   2.]),\n",
       " array([0.000917 , 0.0011073, 0.0012976, 0.0014879, 0.0016782, 0.0018685,\n",
       "        0.0020588, 0.0022491, 0.0024394, 0.0026297, 0.00282  ]),\n",
       " <a list of 10 Patch objects>)"
      ]
     },
     "execution_count": 108,
     "metadata": {},
     "output_type": "execute_result"
    },
    {
     "data": {
      "image/png": "[encoded data removed]",
      "text/plain": [
       "<Figure size 432x288 with 1 Axes>"
      ]
     },
     "metadata": {
      "needs_background": "light"
     },
     "output_type": "display_data"
    }
   ],
   "source": [
    "# put time statistics for [gpu] [thread_num = 20/10]\n",
    "data_select = thread_time_data[thread_time_data['platform'] == 'GPU-MPI']\n",
    "data_select = data_select[data_select['thread_num'] == 40]\n",
    "plt.hist(data_select['put_time'])"
   ]
  },
  {
   "cell_type": "code",
   "execution_count": 107,
   "metadata": {},
   "outputs": [
    {
     "data": {
      "text/plain": [
       "300"
      ]
     },
     "execution_count": 107,
     "metadata": {},
     "output_type": "execute_result"
    },
    {
     "data": {
      "image/png": "[encoded data removed]",
      "text/plain": [
       "<Figure size 432x288 with 1 Axes>"
      ]
     },
     "metadata": {
      "needs_background": "light"
     },
     "output_type": "display_data"
    }
   ],
   "source": [
    "# put time statistics for [gpu] [thread_num = 20/10]\n",
    "data_select = thread_time_data[thread_time_data['platform'] == 'GPU-MPI']\n",
    "data_select = data_select[data_select['thread_num'] == 50]\n",
    "plt.hist(data_select['put_time'])\n",
    "len(data_select)"
   ]
  },
  {
   "cell_type": "code",
   "execution_count": null,
   "metadata": {},
   "outputs": [],
   "source": []
  }
 ],
 "metadata": {
  "colab": {
   "collapsed_sections": [],
   "name": "DPHPC ETHZ AS21 Data Visualization.ipynb",
   "provenance": []
  },
  "kernelspec": {
   "display_name": "Python [conda env:pytorch]",
   "language": "python",
   "name": "conda-env-pytorch-py"
  },
  "language_info": {
   "codemirror_mode": {
    "name": "ipython",
    "version": 3
   },
   "file_extension": ".py",
   "mimetype": "text/x-python",
   "name": "python",
   "nbconvert_exporter": "python",
   "pygments_lexer": "ipython3",
   "version": "3.7.4"
  }
 },
 "nbformat": 4,
 "nbformat_minor": 4
}
