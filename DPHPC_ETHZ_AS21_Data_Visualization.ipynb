{
 "cells": [
  {
   "cell_type": "code",
   "execution_count": 1,
   "metadata": {
    "id": "4h_pJaBjFwgd"
   },
   "outputs": [],
   "source": [
    "import matplotlib.pyplot as plt\n",
    "import seaborn as sns \n",
    "import pandas as pd"
   ]
  },
  {
   "cell_type": "code",
   "execution_count": 72,
   "metadata": {
    "id": "Cga5BbYMF6Kc"
   },
   "outputs": [],
   "source": [
    "# ax = sns.boxplot(x=\"day\", y=\"total_bill\", data=tips, palette=\"Set2\")\n",
    "# ax.set_title('test, test, test')"
   ]
  },
  {
   "cell_type": "code",
   "execution_count": 7,
   "metadata": {
    "id": "2qno2ciEGbT4"
   },
   "outputs": [],
   "source": [
    "def raw_data_to_dataframe(gpu_data_path, cpu_data_path):\n",
    "    \"\"\"\n",
    "    transfer raw data from test to pandas dataframe \n",
    "    example data frame: \n",
    "    [put_time]  [thread_num]  [platform]\n",
    "    0.001           10            GPU-MPI\n",
    "    0.0001          10            OPEN-MPI \n",
    "    ...  \n",
    "    \"\"\"\n",
    "    pd_data = pd.DataFrame(columns = ['put_time', 'thread_num', 'platform'])\n",
    "    # demo \n",
    "    # pd_data = pd_data.append({'sending_time': 0.001, 'thread_num': 10, 'platform': 'GPU-MPI'}, ignore_index=True)\n",
    "    # pd_data = pd_data.append({'sending_time': 0.0001, 'thread_num': 10, 'platform': 'OPEN-MPI'}, ignore_index=True)\n",
    "\n",
    "    # read gpu test file\n",
    "    file = open(gpu_data_path, 'r')\n",
    "    for line in file.readlines():\n",
    "        elements = line.strip().split()\n",
    "        # if the line not starts with '#', then ignored\n",
    "        if len(elements) == 0 or not elements[0] == '#':\n",
    "            continue\n",
    "\n",
    "        row = {\n",
    "            'put_time': float(elements[4]), \n",
    "            'thread_num': int(elements[1]) * 2, \n",
    "            'platform': 'GPU-MPI'\n",
    "        }\n",
    "        pd_data = pd_data.append(row, ignore_index=True)\n",
    "    file.close()\n",
    "\n",
    "    # read cpu test file \n",
    "    file = open(cpu_data_path, 'r')\n",
    "    for line in file.readlines():\n",
    "        elements = line.strip().split()\n",
    "        # if the line not starts with '#', then ignored\n",
    "        if len(elements) == 0 or not elements[0] == '#':\n",
    "            continue\n",
    "\n",
    "        row = {\n",
    "            'put_time': float(elements[4]), \n",
    "            'thread_num': int(elements[1]) * 2, \n",
    "            'platform': 'OPEN-MPI'\n",
    "        }\n",
    "        pd_data = pd_data.append(row, ignore_index=True)\n",
    "    file.close()\n",
    "\n",
    "    return pd_data"
   ]
  },
  {
   "cell_type": "code",
   "execution_count": 9,
   "metadata": {
    "id": "yKaxdjxzJY-h"
   },
   "outputs": [],
   "source": [
    "# read data \n",
    "data_path_gpu = 'res_put_benchmark_cuda.txt'\n",
    "data_path_cpu = 'res_put_benchmark_cpu.txt'\n",
    "thread_time_data = raw_data_to_dataframe(data_path_gpu, data_path_cpu)"
   ]
  },
  {
   "cell_type": "code",
   "execution_count": 10,
   "metadata": {
    "colab": {
     "base_uri": "https://localhost:8080/",
     "height": 424
    },
    "id": "rbrXJpI9Su_n",
    "outputId": "e6ed7f4f-46dd-4fb9-a807-aef771006b2b"
   },
   "outputs": [
    {
     "data": {
      "text/html": [
       "<div>\n",
       "<style scoped>\n",
       "    .dataframe tbody tr th:only-of-type {\n",
       "        vertical-align: middle;\n",
       "    }\n",
       "\n",
       "    .dataframe tbody tr th {\n",
       "        vertical-align: top;\n",
       "    }\n",
       "\n",
       "    .dataframe thead th {\n",
       "        text-align: right;\n",
       "    }\n",
       "</style>\n",
       "<table border=\"1\" class=\"dataframe\">\n",
       "  <thead>\n",
       "    <tr style=\"text-align: right;\">\n",
       "      <th></th>\n",
       "      <th>put_time</th>\n",
       "      <th>thread_num</th>\n",
       "      <th>platform</th>\n",
       "    </tr>\n",
       "  </thead>\n",
       "  <tbody>\n",
       "    <tr>\n",
       "      <th>0</th>\n",
       "      <td>0.000196</td>\n",
       "      <td>2</td>\n",
       "      <td>GPU-MPI</td>\n",
       "    </tr>\n",
       "    <tr>\n",
       "      <th>1</th>\n",
       "      <td>0.000196</td>\n",
       "      <td>2</td>\n",
       "      <td>GPU-MPI</td>\n",
       "    </tr>\n",
       "    <tr>\n",
       "      <th>2</th>\n",
       "      <td>0.000196</td>\n",
       "      <td>2</td>\n",
       "      <td>GPU-MPI</td>\n",
       "    </tr>\n",
       "    <tr>\n",
       "      <th>3</th>\n",
       "      <td>0.000196</td>\n",
       "      <td>2</td>\n",
       "      <td>GPU-MPI</td>\n",
       "    </tr>\n",
       "    <tr>\n",
       "      <th>4</th>\n",
       "      <td>0.000196</td>\n",
       "      <td>2</td>\n",
       "      <td>GPU-MPI</td>\n",
       "    </tr>\n",
       "    <tr>\n",
       "      <th>...</th>\n",
       "      <td>...</td>\n",
       "      <td>...</td>\n",
       "      <td>...</td>\n",
       "    </tr>\n",
       "    <tr>\n",
       "      <th>993</th>\n",
       "      <td>0.000560</td>\n",
       "      <td>100</td>\n",
       "      <td>OPEN-MPI</td>\n",
       "    </tr>\n",
       "    <tr>\n",
       "      <th>994</th>\n",
       "      <td>0.000760</td>\n",
       "      <td>100</td>\n",
       "      <td>OPEN-MPI</td>\n",
       "    </tr>\n",
       "    <tr>\n",
       "      <th>995</th>\n",
       "      <td>0.001561</td>\n",
       "      <td>100</td>\n",
       "      <td>OPEN-MPI</td>\n",
       "    </tr>\n",
       "    <tr>\n",
       "      <th>996</th>\n",
       "      <td>0.001040</td>\n",
       "      <td>100</td>\n",
       "      <td>OPEN-MPI</td>\n",
       "    </tr>\n",
       "    <tr>\n",
       "      <th>997</th>\n",
       "      <td>0.000975</td>\n",
       "      <td>100</td>\n",
       "      <td>OPEN-MPI</td>\n",
       "    </tr>\n",
       "  </tbody>\n",
       "</table>\n",
       "<p>998 rows × 3 columns</p>\n",
       "</div>"
      ],
      "text/plain": [
       "     put_time thread_num  platform\n",
       "0    0.000196          2   GPU-MPI\n",
       "1    0.000196          2   GPU-MPI\n",
       "2    0.000196          2   GPU-MPI\n",
       "3    0.000196          2   GPU-MPI\n",
       "4    0.000196          2   GPU-MPI\n",
       "..        ...        ...       ...\n",
       "993  0.000560        100  OPEN-MPI\n",
       "994  0.000760        100  OPEN-MPI\n",
       "995  0.001561        100  OPEN-MPI\n",
       "996  0.001040        100  OPEN-MPI\n",
       "997  0.000975        100  OPEN-MPI\n",
       "\n",
       "[998 rows x 3 columns]"
      ]
     },
     "execution_count": 10,
     "metadata": {},
     "output_type": "execute_result"
    }
   ],
   "source": [
    "thread_time_data"
   ]
  },
  {
   "cell_type": "code",
   "execution_count": 62,
   "metadata": {},
   "outputs": [
    {
     "data": {
      "image/png": "[encoded data removed]",
      "text/plain": [
       "<Figure size 432x288 with 1 Axes>"
      ]
     },
     "metadata": {
      "needs_background": "light"
     },
     "output_type": "display_data"
    }
   ],
   "source": [
    "ax = sns.boxplot(x=\"thread_num\", y=\"put_time\", hue='platform', data=thread_time_data, palette=\"Set3\", whis=1.5, showfliers=True)"
   ]
  },
  {
   "cell_type": "code",
   "execution_count": 71,
   "metadata": {
    "colab": {
     "base_uri": "https://localhost:8080/",
     "height": 284
    },
    "id": "Gy2FrZLLSDjI",
    "outputId": "8d964735-bc99-4d27-8c4c-65ce24ab2e57"
   },
   "outputs": [
    {
     "data": {
      "image/png": "[encoded data removed]",
      "text/plain": [
       "<Figure size 432x288 with 1 Axes>"
      ]
     },
     "metadata": {
      "needs_background": "light"
     },
     "output_type": "display_data"
    }
   ],
   "source": [
    "# subplot for gpu put time only \n",
    "data_gpu = thread_time_data[thread_time_data['platform'] == 'GPU-MPI']\n",
    "ax = sns.boxplot(x=\"thread_num\", y=\"put_time\", data=data_gpu, palette=\"Set3\", showfliers=False) "
   ]
  },
  {
   "cell_type": "code",
   "execution_count": 18,
   "metadata": {},
   "outputs": [
    {
     "data": {
      "image/png": "[encoded data removed]",
      "text/plain": [
       "<Figure size 432x288 with 1 Axes>"
      ]
     },
     "metadata": {
      "needs_background": "light"
     },
     "output_type": "display_data"
    }
   ],
   "source": [
    "# subplot for cpu put time only \n",
    "data_cpu = thread_time_data[thread_time_data['platform'] == 'OPEN-MPI']\n",
    "ax = sns.boxplot(x=\"thread_num\", y=\"put_time\", data=data_cpu, palette=\"Set3\")"
   ]
  },
  {
   "cell_type": "code",
   "execution_count": 48,
   "metadata": {},
   "outputs": [
    {
     "data": {
      "text/plain": [
       "(array([59.,  9.,  6.,  9.,  0.,  0.,  0.,  0., 10.,  2.]),\n",
       " array([0.000194 , 0.0002054, 0.0002168, 0.0002282, 0.0002396, 0.000251 ,\n",
       "        0.0002624, 0.0002738, 0.0002852, 0.0002966, 0.000308 ]),\n",
       " <a list of 10 Patch objects>)"
      ]
     },
     "execution_count": 48,
     "metadata": {},
     "output_type": "execute_result"
    },
    {
     "data": {
      "image/png": "[encoded data removed]",
      "text/plain": [
       "<Figure size 432x288 with 1 Axes>"
      ]
     },
     "metadata": {
      "needs_background": "light"
     },
     "output_type": "display_data"
    }
   ],
   "source": [
    "# put time statistics for [gpu] [thread_num = 20/10]\n",
    "data_select = thread_time_data[thread_time_data['platform'] == 'GPU-MPI']\n",
    "data_select_10 = data_select[data_select['thread_num'] == 10]\n",
    "plt.hist(data_select_10['put_time'])"
   ]
  },
  {
   "cell_type": "code",
   "execution_count": 67,
   "metadata": {},
   "outputs": [
    {
     "data": {
      "text/plain": [
       "75"
      ]
     },
     "execution_count": 67,
     "metadata": {},
     "output_type": "execute_result"
    },
    {
     "data": {
      "image/png": "[encoded data removed]",
      "text/plain": [
       "<Figure size 432x288 with 1 Axes>"
      ]
     },
     "metadata": {
      "needs_background": "light"
     },
     "output_type": "display_data"
    }
   ],
   "source": [
    "# put time statistics for [gpu] [thread_num = 20/10]\n",
    "data_select = thread_time_data[thread_time_data['platform'] == 'GPU-MPI']\n",
    "data_select_30 = data_select[data_select['thread_num'] == 30]\n",
    "plt.hist(data_select_30['put_time'])\n",
    "len(data_select_30)"
   ]
  },
  {
   "cell_type": "code",
   "execution_count": null,
   "metadata": {},
   "outputs": [],
   "source": []
  }
 ],
 "metadata": {
  "colab": {
   "collapsed_sections": [],
   "name": "DPHPC ETHZ AS21 Data Visualization.ipynb",
   "provenance": []
  },
  "kernelspec": {
   "display_name": "Python [conda env:pytorch]",
   "language": "python",
   "name": "conda-env-pytorch-py"
  },
  "language_info": {
   "codemirror_mode": {
    "name": "ipython",
    "version": 3
   },
   "file_extension": ".py",
   "mimetype": "text/x-python",
   "name": "python",
   "nbconvert_exporter": "python",
   "pygments_lexer": "ipython3",
   "version": "3.7.4"
  }
 },
 "nbformat": 4,
 "nbformat_minor": 4
}
